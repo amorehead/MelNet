{
 "cells": [
  {
   "cell_type": "code",
   "execution_count": 6,
   "metadata": {
    "colab": {
     "base_uri": "https://localhost:8080/",
     "height": 1000
    },
    "colab_type": "code",
    "id": "07MGs5fqO7iV",
    "outputId": "90092cff-a437-46ec-8b47-3cfc87c90977"
   },
   "outputs": [
    {
     "name": "stdout",
     "output_type": "stream",
     "text": [
      "Defaulting to user installation because normal site-packages is not writeable\n",
      "Requirement already satisfied: jamo in /home/alexm/.local/lib/python3.8/site-packages (0.4.1)\n",
      "Defaulting to user installation because normal site-packages is not writeable\n",
      "Requirement already satisfied: audiosegment in /home/alexm/.local/lib/python3.8/site-packages (0.22.2)\n",
      "Requirement already satisfied: webrtcvad in /home/alexm/.local/lib/python3.8/site-packages (from audiosegment) (2.0.10)\n",
      "Requirement already satisfied: numpy in /usr/lib/python3.8/site-packages (from audiosegment) (1.18.5)\n",
      "Requirement already satisfied: pydub in /home/alexm/.local/lib/python3.8/site-packages (from audiosegment) (0.24.1)\n",
      "Defaulting to user installation because normal site-packages is not writeable\n",
      "Requirement already satisfied: unidecode in /home/alexm/.local/lib/python3.8/site-packages (1.1.1)\n",
      "Defaulting to user installation because normal site-packages is not writeable\n",
      "Requirement already satisfied: nltk in /home/alexm/.local/lib/python3.8/site-packages (3.5)\n",
      "Requirement already satisfied: joblib in /home/alexm/.local/lib/python3.8/site-packages (from nltk) (0.15.1)\n",
      "Requirement already satisfied: regex in /home/alexm/.local/lib/python3.8/site-packages (from nltk) (2020.6.8)\n",
      "Requirement already satisfied: click in /home/alexm/.local/lib/python3.8/site-packages (from nltk) (7.1.2)\n",
      "Requirement already satisfied: tqdm in /home/alexm/.local/lib/python3.8/site-packages (from nltk) (4.47.0)\n",
      "Defaulting to user installation because normal site-packages is not writeable\n",
      "Requirement already satisfied: librosa==0.7.2 in /home/alexm/.local/lib/python3.8/site-packages (from -r ./requirements.txt (line 1)) (0.7.2)\n",
      "Collecting numba<=0.48\n",
      "  Downloading numba-0.48.0-1-cp38-cp38-manylinux2014_x86_64.whl (3.6 MB)\n",
      "\u001b[K     |████████████████████████████████| 3.6 MB 1.5 MB/s eta 0:00:01\n",
      "\u001b[?25hRequirement already satisfied: matplotlib in /home/alexm/.local/lib/python3.8/site-packages (from -r ./requirements.txt (line 3)) (3.2.2)\n",
      "Requirement already satisfied: numpy in /usr/lib/python3.8/site-packages (from -r ./requirements.txt (line 4)) (1.18.5)\n",
      "Requirement already satisfied: audiosegment in /home/alexm/.local/lib/python3.8/site-packages (from -r ./requirements.txt (line 5)) (0.22.2)\n",
      "Requirement already satisfied: pyyaml in /usr/lib/python3.8/site-packages (from -r ./requirements.txt (line 6)) (5.3.1)\n",
      "Requirement already satisfied: tensorboard in /home/alexm/.local/lib/python3.8/site-packages (from -r ./requirements.txt (line 7)) (2.2.2)\n",
      "Requirement already satisfied: torch in /usr/lib/python3.8/site-packages (from -r ./requirements.txt (line 8)) (1.5.0)\n",
      "Requirement already satisfied: tqdm in /home/alexm/.local/lib/python3.8/site-packages (from -r ./requirements.txt (line 9)) (4.47.0)\n",
      "Requirement already satisfied: inflect in /home/alexm/.local/lib/python3.8/site-packages (from -r ./requirements.txt (line 10)) (4.1.0)\n",
      "Requirement already satisfied: Unidecode in /home/alexm/.local/lib/python3.8/site-packages (from -r ./requirements.txt (line 11)) (1.1.1)\n",
      "Requirement already satisfied: audioread>=2.0.0 in /home/alexm/.local/lib/python3.8/site-packages (from librosa==0.7.2->-r ./requirements.txt (line 1)) (2.1.8)\n",
      "Requirement already satisfied: decorator>=3.0.0 in /usr/lib/python3.8/site-packages (from librosa==0.7.2->-r ./requirements.txt (line 1)) (4.4.2)\n",
      "Requirement already satisfied: scikit-learn!=0.19.0,>=0.14.0 in /home/alexm/.local/lib/python3.8/site-packages (from librosa==0.7.2->-r ./requirements.txt (line 1)) (0.23.1)\n",
      "Requirement already satisfied: soundfile>=0.9.0 in /home/alexm/.local/lib/python3.8/site-packages (from librosa==0.7.2->-r ./requirements.txt (line 1)) (0.10.3.post1)\n",
      "Requirement already satisfied: resampy>=0.2.2 in /home/alexm/.local/lib/python3.8/site-packages (from librosa==0.7.2->-r ./requirements.txt (line 1)) (0.2.2)\n",
      "Requirement already satisfied: six>=1.3 in /usr/lib/python3.8/site-packages (from librosa==0.7.2->-r ./requirements.txt (line 1)) (1.15.0)\n",
      "Requirement already satisfied: scipy>=1.0.0 in /home/alexm/.local/lib/python3.8/site-packages (from librosa==0.7.2->-r ./requirements.txt (line 1)) (1.4.1)\n",
      "Requirement already satisfied: joblib>=0.12 in /home/alexm/.local/lib/python3.8/site-packages (from librosa==0.7.2->-r ./requirements.txt (line 1)) (0.15.1)\n",
      "Requirement already satisfied: setuptools in /usr/lib/python3.8/site-packages (from numba<=0.48->-r ./requirements.txt (line 2)) (47.1.1)\n",
      "Collecting llvmlite<0.32.0,>=0.31.0dev0\n",
      "  Downloading llvmlite-0.31.0-cp38-cp38-manylinux1_x86_64.whl (20.2 MB)\n",
      "\u001b[K     |████████████████████████████████| 20.2 MB 6.5 MB/s eta 0:00:01\n",
      "\u001b[?25hRequirement already satisfied: cycler>=0.10 in /home/alexm/.local/lib/python3.8/site-packages (from matplotlib->-r ./requirements.txt (line 3)) (0.10.0)\n",
      "Requirement already satisfied: python-dateutil>=2.1 in /usr/lib/python3.8/site-packages (from matplotlib->-r ./requirements.txt (line 3)) (2.8.1)\n",
      "Requirement already satisfied: pyparsing!=2.0.4,!=2.1.2,!=2.1.6,>=2.0.1 in /usr/lib/python3.8/site-packages (from matplotlib->-r ./requirements.txt (line 3)) (2.4.7)\n",
      "Requirement already satisfied: kiwisolver>=1.0.1 in /home/alexm/.local/lib/python3.8/site-packages (from matplotlib->-r ./requirements.txt (line 3)) (1.2.0)\n",
      "Requirement already satisfied: webrtcvad in /home/alexm/.local/lib/python3.8/site-packages (from audiosegment->-r ./requirements.txt (line 5)) (2.0.10)\n",
      "Requirement already satisfied: pydub in /home/alexm/.local/lib/python3.8/site-packages (from audiosegment->-r ./requirements.txt (line 5)) (0.24.1)\n",
      "Requirement already satisfied: google-auth<2,>=1.6.3 in /home/alexm/.local/lib/python3.8/site-packages (from tensorboard->-r ./requirements.txt (line 7)) (1.18.0)\n",
      "Requirement already satisfied: wheel>=0.26; python_version >= \"3\" in /usr/lib/python3.8/site-packages (from tensorboard->-r ./requirements.txt (line 7)) (0.34.2)\n",
      "Requirement already satisfied: grpcio>=1.24.3 in /home/alexm/.local/lib/python3.8/site-packages (from tensorboard->-r ./requirements.txt (line 7)) (1.29.0)\n",
      "Requirement already satisfied: markdown>=2.6.8 in /usr/lib/python3.8/site-packages (from tensorboard->-r ./requirements.txt (line 7)) (3.1.1)\n",
      "Requirement already satisfied: werkzeug>=0.11.15 in /home/alexm/.local/lib/python3.8/site-packages (from tensorboard->-r ./requirements.txt (line 7)) (1.0.1)\n",
      "Requirement already satisfied: requests<3,>=2.21.0 in /usr/lib/python3.8/site-packages (from tensorboard->-r ./requirements.txt (line 7)) (2.23.0)\n",
      "Requirement already satisfied: protobuf>=3.6.0 in /usr/lib/python3.8/site-packages (from tensorboard->-r ./requirements.txt (line 7)) (3.12.0)\n",
      "Requirement already satisfied: tensorboard-plugin-wit>=1.6.0 in /home/alexm/.local/lib/python3.8/site-packages (from tensorboard->-r ./requirements.txt (line 7)) (1.6.0.post3)\n",
      "Requirement already satisfied: google-auth-oauthlib<0.5,>=0.4.1 in /home/alexm/.local/lib/python3.8/site-packages (from tensorboard->-r ./requirements.txt (line 7)) (0.4.1)\n",
      "Requirement already satisfied: absl-py>=0.4 in /usr/lib/python3.8/site-packages (from tensorboard->-r ./requirements.txt (line 7)) (0.9.0)\n",
      "Requirement already satisfied: future in /usr/lib/python3.8/site-packages (from torch->-r ./requirements.txt (line 8)) (0.18.2)\n",
      "Requirement already satisfied: threadpoolctl>=2.0.0 in /home/alexm/.local/lib/python3.8/site-packages (from scikit-learn!=0.19.0,>=0.14.0->librosa==0.7.2->-r ./requirements.txt (line 1)) (2.1.0)\n",
      "Requirement already satisfied: cffi>=1.0 in /home/alexm/.local/lib/python3.8/site-packages (from soundfile>=0.9.0->librosa==0.7.2->-r ./requirements.txt (line 1)) (1.14.0)\n",
      "Requirement already satisfied: rsa<5,>=3.1.4; python_version >= \"3\" in /home/alexm/.local/lib/python3.8/site-packages (from google-auth<2,>=1.6.3->tensorboard->-r ./requirements.txt (line 7)) (4.6)\n",
      "Requirement already satisfied: pyasn1-modules>=0.2.1 in /home/alexm/.local/lib/python3.8/site-packages (from google-auth<2,>=1.6.3->tensorboard->-r ./requirements.txt (line 7)) (0.2.8)\n",
      "Requirement already satisfied: cachetools<5.0,>=2.0.0 in /home/alexm/.local/lib/python3.8/site-packages (from google-auth<2,>=1.6.3->tensorboard->-r ./requirements.txt (line 7)) (4.1.0)\n",
      "Requirement already satisfied: chardet>=3.0.2 in /usr/lib/python3.8/site-packages (from requests<3,>=2.21.0->tensorboard->-r ./requirements.txt (line 7)) (3.0.4)\n",
      "Requirement already satisfied: idna>=2.5 in /usr/lib/python3.8/site-packages (from requests<3,>=2.21.0->tensorboard->-r ./requirements.txt (line 7)) (2.9)\n",
      "Requirement already satisfied: urllib3>=1.21.1 in /usr/lib/python3.8/site-packages (from requests<3,>=2.21.0->tensorboard->-r ./requirements.txt (line 7)) (1.25.9)\n",
      "Requirement already satisfied: requests-oauthlib>=0.7.0 in /home/alexm/.local/lib/python3.8/site-packages (from google-auth-oauthlib<0.5,>=0.4.1->tensorboard->-r ./requirements.txt (line 7)) (1.3.0)\n",
      "Requirement already satisfied: pycparser in /home/alexm/.local/lib/python3.8/site-packages (from cffi>=1.0->soundfile>=0.9.0->librosa==0.7.2->-r ./requirements.txt (line 1)) (2.20)\n",
      "Requirement already satisfied: pyasn1>=0.1.3 in /home/alexm/.local/lib/python3.8/site-packages (from rsa<5,>=3.1.4; python_version >= \"3\"->google-auth<2,>=1.6.3->tensorboard->-r ./requirements.txt (line 7)) (0.4.8)\n",
      "Requirement already satisfied: oauthlib>=3.0.0 in /home/alexm/.local/lib/python3.8/site-packages (from requests-oauthlib>=0.7.0->google-auth-oauthlib<0.5,>=0.4.1->tensorboard->-r ./requirements.txt (line 7)) (3.1.0)\n"
     ]
    },
    {
     "name": "stdout",
     "output_type": "stream",
     "text": [
      "Installing collected packages: llvmlite, numba\n",
      "  Attempting uninstall: llvmlite\n",
      "    Found existing installation: llvmlite 0.33.0\n",
      "    Uninstalling llvmlite-0.33.0:\n",
      "      Successfully uninstalled llvmlite-0.33.0\n",
      "  Attempting uninstall: numba\n",
      "    Found existing installation: numba 0.50.1\n",
      "    Uninstalling numba-0.50.1:\n",
      "      Successfully uninstalled numba-0.50.1\n",
      "Successfully installed llvmlite-0.31.0 numba-0.48.0\n"
     ]
    }
   ],
   "source": [
    "!pip install jamo\n",
    "!pip install audiosegment\n",
    "!pip install unidecode\n",
    "!pip install nltk\n",
    "!pip install -r ./requirements.txt"
   ]
  },
  {
   "cell_type": "code",
   "execution_count": 14,
   "metadata": {
    "colab": {
     "base_uri": "https://localhost:8080/",
     "height": 508
    },
    "colab_type": "code",
    "id": "Ab2D7_kKc22h",
    "outputId": "f2888278-0f03-41c2-c1d6-98839a4572df",
    "scrolled": true
   },
   "outputs": [
    {
     "name": "stdout",
     "output_type": "stream",
     "text": [
      "[nltk_data] Downloading package punkt to /home/alexm/nltk_data...\n",
      "[nltk_data]   Package punkt is already up-to-date!\n",
      "JTBC는 JTBCs를 DY는 A가 Absolute\n",
      "제이티비씨는 JTBCs를 디와이는 에이가 Absolute\n",
      "==============================\n",
      "오늘(13일) 3,600마리 강아지가\n",
      "오늘 세천여섯백마리 강아지가\n",
      "==============================\n",
      "60.3%\n",
      "육십쩜 삼퍼센트\n",
      "==============================\n",
      "\"저돌\"(猪突) 입니다.\n",
      "'저돌' 입니다.\n",
      "==============================\n",
      "비대위원장이 지난 1월 이런 말을 했습니다. “난 그냥 산돼지처럼 돌파하는 스타일이다”\n",
      "비대위원장이 지난 일월 이런 말을 했습니다. '난 그냥 산돼지처럼 돌파하는 스타일이다'\n",
      "==============================\n",
      "지금은 -12.35%였고 종류는 5가지와 19가지, 그리고 55가지였다\n",
      "지금은 마이너스 십이쩜 삼오퍼센트였고 종류는 다섯가지와 열아홉가지, 그리고 쉰다섯가지였다\n",
      "==============================\n",
      "JTBC는 TH와 K 양이 2017년 9월 12일 오후 12시에 24살이 된다\n",
      "제이티비씨는 티에이치와 케이 양이 이천일십칠년 구월 십이일 오후 열두시에 스물네살이 된다\n",
      "==============================\n",
      "['ᄇ', 'ᅵ', 'ᄃ', 'ᅢ', 'ᄋ', 'ᅱ', 'ᄋ', 'ᅯ', 'ᆫ', 'ᄌ', 'ᅡ', 'ᆼ', 'ᄋ', 'ᅵ', ' ', 'ᄌ', 'ᅵ', 'ᄂ', 'ᅡ', 'ᆫ', ' ', '1', 'ᄋ', 'ᅯ', 'ᆯ', ' ', 'ᄋ', 'ᅵ', 'ᄅ', 'ᅥ', 'ᆫ', ' ', 'ᄆ', 'ᅡ', 'ᆯ', 'ᄋ', 'ᅳ', 'ᆯ', ' ', 'ᄒ', 'ᅢ', 'ᆻ', 'ᄉ', 'ᅳ', 'ᆸ', 'ᄂ', 'ᅵ', 'ᄃ', 'ᅡ', '?', ' ', '“', 'ᄂ', 'ᅡ', 'ᆫ', ' ', 'ᄀ', 'ᅳ', 'ᄂ', 'ᅣ', 'ᆼ', ' ', 'ᄉ', 'ᅡ', 'ᆫ', 'ᄃ', 'ᅫ', 'ᄌ', 'ᅵ', 'ᄎ', 'ᅥ', 'ᄅ', 'ᅥ', 'ᆷ', ' ', 'ᄃ', 'ᅩ', 'ᆯ', 'ᄑ', 'ᅡ', 'ᄒ', 'ᅡ', 'ᄂ', 'ᅳ', 'ᆫ', ' ', 'ᄉ', 'ᅳ', 'ᄐ', 'ᅡ', 'ᄋ', 'ᅵ', 'ᆯ', 'ᄋ', 'ᅵ', 'ᄃ', 'ᅡ', '”']\n",
      "Traceback (most recent call last):\n",
      "  File \"./inference.py\", line 2160, in <module>\n",
      "    model.load_tiers()\n",
      "  File \"./inference.py\", line 2075, in load_tiers\n",
      "    self.tiers[idx+1].load_state_dict(checkpoint['model'])\n",
      "  File \"/usr/lib/python3.8/site-packages/torch/nn/modules/module.py\", line 846, in load_state_dict\n",
      "    raise RuntimeError('Error(s) in loading state_dict for {}:\\n\\t{}'.format(\n",
      "RuntimeError: Error(s) in loading state_dict for DataParallel:\n",
      "\tMissing key(s) in state_dict: \"module.embedding_text.weight\", \"module.text_lstm.weight_ih_l0\", \"module.text_lstm.weight_hh_l0\", \"module.text_lstm.bias_ih_l0\", \"module.text_lstm.bias_hh_l0\", \"module.text_lstm.weight_ih_l0_reverse\", \"module.text_lstm.weight_hh_l0_reverse\", \"module.text_lstm.bias_ih_l0_reverse\", \"module.text_lstm.bias_hh_l0_reverse\", \"module.attention.rnn_cell.weight_ih\", \"module.attention.rnn_cell.weight_hh\", \"module.attention.rnn_cell.bias_ih\", \"module.attention.rnn_cell.bias_hh\", \"module.attention.W_g.weight\", \"module.attention.W_g.bias\". \n"
     ]
    }
   ],
   "source": [
    "!python3 ./inference.py -c ./config/trump.yaml -p ./config/inference.yaml -n tremendous_storytime_1 -i 'What in the world is my least favorite expression.'"
   ]
  },
  {
   "cell_type": "code",
   "execution_count": null,
   "metadata": {
    "colab": {},
    "colab_type": "code",
    "id": "yetjT58kPN4r"
   },
   "outputs": [],
   "source": []
  }
 ],
 "metadata": {
  "accelerator": "GPU",
  "colab": {
   "collapsed_sections": [],
   "name": "melnet_pytorch_driver",
   "provenance": []
  },
  "kernelspec": {
   "display_name": "Python 3",
   "language": "python",
   "name": "python3"
  },
  "language_info": {
   "codemirror_mode": {
    "name": "ipython",
    "version": 3
   },
   "file_extension": ".py",
   "mimetype": "text/x-python",
   "name": "python",
   "nbconvert_exporter": "python",
   "pygments_lexer": "ipython3",
   "version": "3.8.3"
  }
 },
 "nbformat": 4,
 "nbformat_minor": 1
}
