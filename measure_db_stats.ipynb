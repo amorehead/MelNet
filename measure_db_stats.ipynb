{
  "cells": [
    {
      "cell_type": "code",
      "metadata": {
        "id": "0oLc3g3C-3WQ",
        "colab_type": "code",
        "colab": {}
      },
      "source": [
        "# Mount Google Drive Folder\n",
        "from google.colab import drive\n",
        "drive.mount('/content/drive')"
      ],
      "execution_count": null,
      "outputs": []
    },
    {
      "cell_type": "code",
      "metadata": {
        "id": "OBvUl8iQ_CL8",
        "colab_type": "code",
        "colab": {}
      },
      "source": [
        "# Install dependencies\n",
        "!pip3 install audiosegment"
      ],
      "execution_count": null,
      "outputs": []
    },
    {
      "cell_type": "code",
      "metadata": {
        "id": "l4Bz2GIe-hZo",
        "colab_type": "code",
        "colab": {}
      },
      "source": [
        "# Define imports\n",
        "import os\n",
        "import math\n",
        "import audiosegment\n",
        "import numpy as np\n",
        "import pandas as pd"
      ],
      "execution_count": null,
      "outputs": []
    },
    {
      "cell_type": "code",
      "metadata": {
        "id": "-4G6NdbK-hZv",
        "colab_type": "code",
        "colab": {}
      },
      "source": [
        "# Declare constants\n",
        "sample_rate = 22050\n",
        "data_directory = \"/content/drive/My Drive/Trump/\"\n",
        "db_values = []"
      ],
      "execution_count": null,
      "outputs": []
    },
    {
      "cell_type": "code",
      "metadata": {
        "id": "7I63SLPe-hZz",
        "colab_type": "code",
        "colab": {}
      },
      "source": [
        "# Calculate sound metrics for each wav file in the dataset\n",
        "for file in sorted(os.listdir(data_directory)):\n",
        "    filename = data_directory + os.fsdecode(file)\n",
        "    print(\"Current Filename: %s\" % filename)\n",
        "\n",
        "    if filename.endswith(\".wav\"):\n",
        "        try:\n",
        "            audio = audiosegment.from_file(filename).resample(sample_rate_Hz=sample_rate)\n",
        "            wav = audio.to_numpy_array()\n",
        "\n",
        "            if len(wav.shape) == 2:\n",
        "                wav = wav.T.flatten()\n",
        "\n",
        "            if wav.dtype == np.int16:\n",
        "                wav = wav / 32768.0\n",
        "            elif wav.dtype == np.int32:\n",
        "                wav = wav / 2147483648.0\n",
        "            elif wav.dtype == np.uint8:\n",
        "                wav = (wav - 128) / 128.0\n",
        "\n",
        "            wav = wav.astype(np.float32)\n",
        "            wav = 20 * np.log10(wav)\n",
        "            wav = np.array([val for val in wav.tolist() if not math.isnan(val) and not math.isinf(val)])\n",
        "\n",
        "            min = np.min(wav)\n",
        "            max = np.max(wav)\n",
        "            mean = np.mean(wav)\n",
        "            median = np.median(wav)\n",
        "\n",
        "            db_values.append([min, max, mean, median])\n",
        "            print('Min: %f; Max: %f; Mean: %f; Median: %f' % (min, max, mean, median))\n",
        "        except:\n",
        "            print(\"Failed to extract sound data/statistics from %s\" % filename)\n",
        "        continue\n",
        "    else:\n",
        "        continue"
      ],
      "execution_count": null,
      "outputs": []
    },
    {
      "cell_type": "code",
      "metadata": {
        "id": "C83RA77P-hZ6",
        "colab_type": "code",
        "colab": {}
      },
      "source": [
        "# Save sound metrics to storage\n",
        "np_db_values = np.array(db_values)\n",
        "np.save(\"np_db_values.npy\", np_db_values)"
      ],
      "execution_count": null,
      "outputs": []
    },
    {
      "cell_type": "code",
      "metadata": {
        "id": "1dK385j92ZJf",
        "colab_type": "code",
        "colab": {}
      },
      "source": [
        "# Load sound metrics from storage\n",
        "# np_db_values = np.load(\"np_db_values.npy\")"
      ],
      "execution_count": null,
      "outputs": []
    },
    {
      "cell_type": "code",
      "metadata": {
        "id": "bbQtvqcidNut",
        "colab_type": "code",
        "colab": {}
      },
      "source": [
        "# Create a DataFrame\n",
        "d = {\n",
        "  'Min': np_db_values[:,0].tolist(),\n",
        "  'Max': np_db_values[:,1].tolist(),\n",
        "  'Mean': np_db_values[:,2].tolist(),\n",
        "  'Median': np_db_values[:,3].tolist()\n",
        "}\n",
        "df = pd.DataFrame(d, columns=['Min','Max','Mean', \"Median\"])"
      ],
      "execution_count": null,
      "outputs": []
    },
    {
      "cell_type": "code",
      "metadata": {
        "id": "EX4ZTvXL2UoN",
        "colab_type": "code",
        "colab": {}
      },
      "source": [
        "# Inspect new DataFrame\n",
        "print(df)"
      ],
      "execution_count": null,
      "outputs": []
    },
    {
      "cell_type": "code",
      "metadata": {
        "id": "chaCRv1I-hZ-",
        "colab_type": "code",
        "colab": {}
      },
      "source": [
        "# View aggregated sound metrics\n",
        "print('Overall Min: %f; Overall Max: %f; Overall Mean: %f; Overall Median: %f' % (df[\"Min\"].min(), df[\"Max\"].max(), df[\"Mean\"].max(), df[\"Median\"].max()))"
      ],
      "execution_count": null,
      "outputs": []
    },
    {
      "cell_type": "code",
      "metadata": {
        "id": "Rs2FqHwJ3cRR",
        "colab_type": "code",
        "colab": {}
      },
      "source": [
        ""
      ],
      "execution_count": null,
      "outputs": []
    }
  ],
  "metadata": {
    "kernelspec": {
      "display_name": "Python 3",
      "language": "python",
      "name": "python3"
    },
    "language_info": {
      "codemirror_mode": {
        "name": "ipython",
        "version": 3
      },
      "file_extension": ".py",
      "mimetype": "text/x-python",
      "name": "python",
      "nbconvert_exporter": "python",
      "pygments_lexer": "ipython3",
      "version": "3.8.3"
    },
    "colab": {
      "name": "measure_db_stats.ipynb",
      "provenance": [],
      "collapsed_sections": []
    }
  },
  "nbformat": 4,
  "nbformat_minor": 0
}