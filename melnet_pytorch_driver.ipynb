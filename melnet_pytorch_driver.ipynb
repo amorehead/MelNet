{
 "cells": [
  {
   "cell_type": "code",
   "execution_count": null,
   "metadata": {
    "colab": {
     "base_uri": "https://localhost:8080/",
     "height": 1000
    },
    "colab_type": "code",
    "id": "07MGs5fqO7iV",
    "outputId": "90092cff-a437-46ec-8b47-3cfc87c90977"
   },
   "outputs": [],
   "source": [
    "!pip install jamo\n",
    "!pip install audiosegment\n",
    "!pip install unidecode\n",
    "!pip install nltk\n",
    "!pip install importlib\n",
    "# !pip install -r /content/drive/My\\ Drive/Tremendous\\ Storytime/MelNet/requirements.txt # Google Colab\n",
    "# !pip install -r ~/Repositories/MelNet/requirements.txt # Local machine\n",
    "!pip install -r ../input/melnet/requirements.txt # Kaggle"
   ]
  },
  {
   "cell_type": "code",
   "execution_count": null,
   "metadata": {
    "colab": {
     "base_uri": "https://localhost:8080/",
     "height": 508
    },
    "colab_type": "code",
    "id": "Ab2D7_kKc22h",
    "outputId": "f2888278-0f03-41c2-c1d6-98839a4572df"
   },
   "outputs": [],
   "source": [
    "# !python3 /content/drive/My\\ Drive/Tremendous\\ Storytime/MelNet/melnet_pytorch.py -c /content/drive/My\\ Drive/Tremendous\\ Storytime/MelNet/config/trump.yaml -n tremendous_storytime_tier_1 -t 1 -b 4 -s True # Google Colab\n",
    "# !python3 ~/Repositories/MelNet/melnet_pytorch.py -c ~/Repositories/MelNet/config/trump.yaml -n tremendous_storytime_tier_1 -t 1 -b 4 -s True # Local machine\n",
    "!python3 ../input/melnet/melnet_pytorch.py -c ../input/melnet/config/trump.yaml -n tremendous_storytime_tier_1 -t 1 -b 4 -s True # Kaggle"
   ]
  },
  {
   "cell_type": "code",
   "execution_count": null,
   "metadata": {},
   "outputs": [],
   "source": []
  }
 ],
 "metadata": {
  "accelerator": "GPU",
  "colab": {
   "collapsed_sections": [],
   "name": "melnet_pytorch_driver",
   "provenance": []
  },
  "kernelspec": {
   "display_name": "Python 3",
   "language": "python",
   "name": "python3"
  },
  "language_info": {
   "codemirror_mode": {
    "name": "ipython",
    "version": 3
   },
   "file_extension": ".py",
   "mimetype": "text/x-python",
   "name": "python",
   "nbconvert_exporter": "python",
   "pygments_lexer": "ipython3",
   "version": "3.8.3"
  }
 },
 "nbformat": 4,
 "nbformat_minor": 1
}