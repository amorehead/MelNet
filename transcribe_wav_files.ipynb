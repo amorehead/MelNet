{
 "cells": [
  {
   "cell_type": "code",
   "execution_count": null,
   "metadata": {
    "pycharm": {
     "is_executing": true
    }
   },
   "outputs": [
    {
     "name": "stdout",
     "output_type": "stream",
     "text": [
      "Defaulting to user installation because normal site-packages is not writeable\r\n",
      "Requirement already satisfied: SpeechRecognition in /usr/lib/python3.8/site-packages (3.8.1)\r\n"
     ]
    }
   ],
   "source": [
    "!pip3 install SpeechRecognition\n",
    "!pip3 install spacy"
   ]
  },
  {
   "cell_type": "code",
   "execution_count": null,
   "metadata": {
    "pycharm": {
     "is_executing": true
    }
   },
   "outputs": [],
   "source": [
    "import os\n",
    "import speech_recognition as sr\n",
    "import spacy"
   ]
  },
  {
   "cell_type": "code",
   "execution_count": null,
   "metadata": {
    "pycharm": {
     "is_executing": true
    }
   },
   "outputs": [],
   "source": [
    "from google.colab import drive\n",
    "drive.mount('/content/drive')"
   ]
  },
  {
   "cell_type": "code",
   "execution_count": null,
   "metadata": {
    "pycharm": {
     "is_executing": true
    }
   },
   "outputs": [],
   "source": [
    "r = sr.Recognizer()\n",
    "nlp = spacy.load('en_core_web_sm')\n",
    "data_directory = \"/content/drive/My Drive/Trump\""
   ]
  },
  {
   "cell_type": "code",
   "execution_count": null,
   "metadata": {
    "pycharm": {
     "is_executing": true
    }
   },
   "outputs": [],
   "source": [
    "with open(\"prompts.gui\", \"w\", buffering=1) as text_file:\n",
    "    for file in sorted(os.listdir(data_directory)):\n",
    "        filename = os.fsdecode(file)\n",
    "        print(\"Current Filename: %s\" % filename)\n",
    "\n",
    "        if filename.endswith(\".wav\"):\n",
    "            try:\n",
    "                audio_file = sr.AudioFile(data_directory + \"/\" + filename)\n",
    "\n",
    "                # Open audio file with speech_recognition\n",
    "                with audio_file as source:\n",
    "                    audio = r.record(source)\n",
    "                    text = r.recognize_google(audio)\n",
    "\n",
    "                # Convert speech_recognition audio data to spaCy audio document\n",
    "                document = nlp(text)\n",
    "\n",
    "                # Extract sentences from document\n",
    "                sentences = list(document.sents)\n",
    "\n",
    "                # Write out parsed sentences with their original filenames\n",
    "                for sentence in sentences:\n",
    "                    if sentence and sentence[0]:\n",
    "                      sentence_str = str(sentence)\n",
    "                      if sentence_str and sentence_str[0]:\n",
    "                        processed_sentence = sentence_str[0].upper() + sentence_str[1:]\n",
    "                    text_file.write(\"%s\\n%s.\\n\\n\" % (filename, processed_sentence))\n",
    "            \n",
    "            except:\n",
    "                print(\"Failed to extract sentence from %s\" % filename)\n",
    "            continue\n",
    "        else:\n",
    "            continue"
   ]
  }
 ],
 "metadata": {
  "kernelspec": {
   "display_name": "PyCharm (MelNet)",
   "language": "python",
   "name": "pycharm-72c7a56d"
  },
  "language_info": {
   "codemirror_mode": {
    "name": "ipython",
    "version": 3
   },
   "file_extension": ".py",
   "mimetype": "text/x-python",
   "name": "python",
   "nbconvert_exporter": "python",
   "pygments_lexer": "ipython3",
   "version": "3.8.3"
  }
 },
 "nbformat": 4,
 "nbformat_minor": 4
}